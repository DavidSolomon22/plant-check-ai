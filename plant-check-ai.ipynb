{
  "nbformat": 4,
  "nbformat_minor": 0,
  "metadata": {
    "colab": {
      "name": "plant-check-ai.ipynb",
      "provenance": [],
      "collapsed_sections": [],
      "toc_visible": true,
      "include_colab_link": true
    },
    "kernelspec": {
      "name": "python3",
      "display_name": "Python 3"
    },
    "accelerator": "GPU"
  },
  "cells": [
    {
      "cell_type": "markdown",
      "metadata": {
        "id": "view-in-github",
        "colab_type": "text"
      },
      "source": [
        "<a href=\"https://colab.research.google.com/github/DavidSolomon22/plant-check-ai/blob/master/plant-check-ai.ipynb\" target=\"_parent\"><img src=\"https://colab.research.google.com/assets/colab-badge.svg\" alt=\"Open In Colab\"/></a>"
      ]
    },
    {
      "cell_type": "markdown",
      "metadata": {
        "id": "Yp6pU3VYJWEa"
      },
      "source": [
        "## Start"
      ]
    },
    {
      "cell_type": "code",
      "metadata": {
        "colab": {
          "base_uri": "https://localhost:8080/"
        },
        "id": "wmR2HE72xu-S",
        "outputId": "993a31d1-b259-4095-d737-633558f304ac"
      },
      "source": [
        "from google.colab import drive\n",
        "drive.mount('/content/drive')"
      ],
      "execution_count": null,
      "outputs": [
        {
          "output_type": "stream",
          "text": [
            "Mounted at /content/drive\n"
          ],
          "name": "stdout"
        }
      ]
    },
    {
      "cell_type": "code",
      "metadata": {
        "colab": {
          "base_uri": "https://localhost:8080/"
        },
        "id": "wbVkxijxyJUX",
        "outputId": "4727fe0d-224b-48e7-fc72-b7ad5de0958f"
      },
      "source": [
        "!nvidia-smi"
      ],
      "execution_count": null,
      "outputs": [
        {
          "output_type": "stream",
          "text": [
            "Fri Jan 22 20:08:36 2021       \n",
            "+-----------------------------------------------------------------------------+\n",
            "| NVIDIA-SMI 460.32.03    Driver Version: 418.67       CUDA Version: 10.1     |\n",
            "|-------------------------------+----------------------+----------------------+\n",
            "| GPU  Name        Persistence-M| Bus-Id        Disp.A | Volatile Uncorr. ECC |\n",
            "| Fan  Temp  Perf  Pwr:Usage/Cap|         Memory-Usage | GPU-Util  Compute M. |\n",
            "|                               |                      |               MIG M. |\n",
            "|===============================+======================+======================|\n",
            "|   0  Tesla T4            Off  | 00000000:00:04.0 Off |                    0 |\n",
            "| N/A   58C    P8    10W /  70W |      0MiB / 15079MiB |      0%      Default |\n",
            "|                               |                      |                 ERR! |\n",
            "+-------------------------------+----------------------+----------------------+\n",
            "                                                                               \n",
            "+-----------------------------------------------------------------------------+\n",
            "| Processes:                                                                  |\n",
            "|  GPU   GI   CI        PID   Type   Process name                  GPU Memory |\n",
            "|        ID   ID                                                   Usage      |\n",
            "|=============================================================================|\n",
            "|  No running processes found                                                 |\n",
            "+-----------------------------------------------------------------------------+\n"
          ],
          "name": "stdout"
        }
      ]
    },
    {
      "cell_type": "markdown",
      "metadata": {
        "id": "sljXDH57IvKu"
      },
      "source": [
        "## Data augmentetion"
      ]
    },
    {
      "cell_type": "code",
      "metadata": {
        "colab": {
          "base_uri": "https://localhost:8080/"
        },
        "id": "UyL7CvWzykD0",
        "outputId": "954e6269-3f3b-476f-a969-06a2bc07cede"
      },
      "source": [
        "from tensorflow.keras.preprocessing.image import ImageDataGenerator\n",
        "from tensorflow.keras.applications.resnet50 import preprocess_input\n",
        "\n",
        "image_width, image_height = 224,224\n",
        "\n",
        "train_datagen = ImageDataGenerator(\n",
        "    preprocessing_function=preprocess_input,\n",
        "    rotation_range=40,\n",
        "    width_shift_range=0.2,\n",
        "    height_shift_range=0.2,\n",
        "    shear_range=0.2,\n",
        "    zoom_range=0.2,\n",
        "    horizontal_flip=True,\n",
        "    fill_mode='nearest'\n",
        ")\n",
        "\n",
        "test_datagen = ImageDataGenerator(\n",
        "    preprocessing_function=preprocess_input\n",
        ")\n",
        "\n",
        "train_generator = train_datagen.flow_from_directory(\n",
        "    \"/content/drive/MyDrive/plant-check/splitted-dataset/train\",\n",
        "    batch_size=32,\n",
        "    class_mode='categorical',\n",
        "    target_size=(image_width, image_height)\n",
        ")\n",
        "\n",
        "test_generator = test_datagen.flow_from_directory(\n",
        "    \"/content/drive/MyDrive/plant-check/splitted-dataset/val\",\n",
        "    batch_size=32, \n",
        "    class_mode='categorical',\n",
        "    target_size=(image_width, image_height)\n",
        ")"
      ],
      "execution_count": null,
      "outputs": [
        {
          "output_type": "stream",
          "text": [
            "Found 1600 images belonging to 10 classes.\n",
            "Found 400 images belonging to 10 classes.\n"
          ],
          "name": "stdout"
        }
      ]
    },
    {
      "cell_type": "markdown",
      "metadata": {
        "id": "EmNj5UbUJAyc"
      },
      "source": [
        "## Model"
      ]
    },
    {
      "cell_type": "code",
      "metadata": {
        "id": "9GmxDLxPywRb"
      },
      "source": [
        "from tensorflow.keras.applications.resnet50 import ResNet50\n",
        "\n",
        "base_model = ResNet50(\n",
        "    input_shape=(image_width, image_height, 3),\n",
        "    include_top=False,\n",
        "    weights=\"imagenet\",\n",
        ")\n",
        "\n",
        "base_model.trainable = False\n",
        "\n",
        "base_model.summary()"
      ],
      "execution_count": null,
      "outputs": []
    },
    {
      "cell_type": "code",
      "metadata": {
        "colab": {
          "base_uri": "https://localhost:8080/"
        },
        "id": "_kFF8a1Py2_r",
        "outputId": "7532373b-bf6b-49f7-91ec-f72974a611e3"
      },
      "source": [
        "import tensorflow as tf\n",
        "from tensorflow.keras.layers import Dropout, Flatten, Dense, BatchNormalization, AveragePooling2D\n",
        "\n",
        "model = tf.keras.models.Sequential([\n",
        "    base_model,\n",
        "    AveragePooling2D(pool_size=(7, 7)),\n",
        "    Flatten(),\n",
        "    Dense(256, activation=\"relu\"),\n",
        "    Dropout(0.5),\n",
        "    Dense(10, activation='softmax')\n",
        "])\n",
        "\n",
        "model.summary()"
      ],
      "execution_count": null,
      "outputs": [
        {
          "output_type": "stream",
          "text": [
            "Model: \"sequential\"\n",
            "_________________________________________________________________\n",
            "Layer (type)                 Output Shape              Param #   \n",
            "=================================================================\n",
            "resnet50 (Functional)        (None, 7, 7, 2048)        23587712  \n",
            "_________________________________________________________________\n",
            "average_pooling2d (AveragePo (None, 1, 1, 2048)        0         \n",
            "_________________________________________________________________\n",
            "flatten (Flatten)            (None, 2048)              0         \n",
            "_________________________________________________________________\n",
            "dense (Dense)                (None, 256)               524544    \n",
            "_________________________________________________________________\n",
            "dropout (Dropout)            (None, 256)               0         \n",
            "_________________________________________________________________\n",
            "dense_1 (Dense)              (None, 10)                2570      \n",
            "=================================================================\n",
            "Total params: 24,114,826\n",
            "Trainable params: 527,114\n",
            "Non-trainable params: 23,587,712\n",
            "_________________________________________________________________\n"
          ],
          "name": "stdout"
        }
      ]
    },
    {
      "cell_type": "code",
      "metadata": {
        "id": "Jd0i5WdUzZb9"
      },
      "source": [
        "from tensorflow.keras.optimizers import Adam\n",
        "from tensorflow.keras.callbacks import EarlyStopping\n",
        "\n",
        "early_stopping_cb = EarlyStopping(\n",
        "    monitor='val_accuracy',\n",
        "    patience=4,\n",
        "    restore_best_weights=True\n",
        ")\n",
        "\n",
        "model.compile(\n",
        "    optimizer=Adam(learning_rate=0.0001, decay=0.0001 / 30),\n",
        "    loss='categorical_crossentropy',\n",
        "    metrics = ['accuracy']\n",
        ")"
      ],
      "execution_count": null,
      "outputs": []
    },
    {
      "cell_type": "markdown",
      "metadata": {
        "id": "PDykoECnJIlz"
      },
      "source": [
        "## Learning process"
      ]
    },
    {
      "cell_type": "code",
      "metadata": {
        "colab": {
          "base_uri": "https://localhost:8080/"
        },
        "id": "sy3yikXLzeG-",
        "outputId": "0dadf83f-de03-4f2c-fd48-0e617e8a99af"
      },
      "source": [
        "history = model.fit(\n",
        "    train_generator,\n",
        "    validation_data=test_generator,\n",
        "    epochs=30,\n",
        "    callbacks=[early_stopping_cb]\n",
        ")"
      ],
      "execution_count": null,
      "outputs": [
        {
          "output_type": "stream",
          "text": [
            "Epoch 1/30\n",
            "50/50 [==============================] - 553s 11s/step - loss: 2.5839 - accuracy: 0.1855 - val_loss: 1.4013 - val_accuracy: 0.5700\n",
            "Epoch 2/30\n",
            "50/50 [==============================] - 26s 517ms/step - loss: 1.6132 - accuracy: 0.4514 - val_loss: 1.0264 - val_accuracy: 0.7250\n",
            "Epoch 3/30\n",
            "50/50 [==============================] - 26s 512ms/step - loss: 1.2527 - accuracy: 0.5787 - val_loss: 0.8279 - val_accuracy: 0.7550\n",
            "Epoch 4/30\n",
            "50/50 [==============================] - 26s 515ms/step - loss: 1.0403 - accuracy: 0.6471 - val_loss: 0.7076 - val_accuracy: 0.7950\n",
            "Epoch 5/30\n",
            "50/50 [==============================] - 26s 513ms/step - loss: 0.8903 - accuracy: 0.6933 - val_loss: 0.6243 - val_accuracy: 0.8150\n",
            "Epoch 6/30\n",
            "50/50 [==============================] - 26s 511ms/step - loss: 0.8663 - accuracy: 0.7210 - val_loss: 0.6013 - val_accuracy: 0.8200\n",
            "Epoch 7/30\n",
            "50/50 [==============================] - 26s 512ms/step - loss: 0.7696 - accuracy: 0.7511 - val_loss: 0.5608 - val_accuracy: 0.8325\n",
            "Epoch 8/30\n",
            "50/50 [==============================] - 26s 511ms/step - loss: 0.7007 - accuracy: 0.7806 - val_loss: 0.5313 - val_accuracy: 0.8500\n",
            "Epoch 9/30\n",
            "50/50 [==============================] - 26s 515ms/step - loss: 0.6295 - accuracy: 0.7951 - val_loss: 0.5064 - val_accuracy: 0.8575\n",
            "Epoch 10/30\n",
            "50/50 [==============================] - 26s 514ms/step - loss: 0.6278 - accuracy: 0.8050 - val_loss: 0.5004 - val_accuracy: 0.8500\n",
            "Epoch 11/30\n",
            "50/50 [==============================] - 25s 509ms/step - loss: 0.5889 - accuracy: 0.8130 - val_loss: 0.4956 - val_accuracy: 0.8600\n",
            "Epoch 12/30\n",
            "50/50 [==============================] - 25s 509ms/step - loss: 0.5499 - accuracy: 0.8270 - val_loss: 0.4724 - val_accuracy: 0.8600\n",
            "Epoch 13/30\n",
            "50/50 [==============================] - 26s 512ms/step - loss: 0.4827 - accuracy: 0.8412 - val_loss: 0.4592 - val_accuracy: 0.8625\n",
            "Epoch 14/30\n",
            "50/50 [==============================] - 26s 511ms/step - loss: 0.5293 - accuracy: 0.8385 - val_loss: 0.4574 - val_accuracy: 0.8650\n",
            "Epoch 15/30\n",
            "50/50 [==============================] - 25s 508ms/step - loss: 0.4683 - accuracy: 0.8513 - val_loss: 0.4449 - val_accuracy: 0.8750\n",
            "Epoch 16/30\n",
            "50/50 [==============================] - 26s 511ms/step - loss: 0.4446 - accuracy: 0.8566 - val_loss: 0.4439 - val_accuracy: 0.8775\n",
            "Epoch 17/30\n",
            "50/50 [==============================] - 25s 508ms/step - loss: 0.4209 - accuracy: 0.8634 - val_loss: 0.4453 - val_accuracy: 0.8725\n",
            "Epoch 18/30\n",
            "50/50 [==============================] - 25s 508ms/step - loss: 0.4002 - accuracy: 0.8720 - val_loss: 0.4322 - val_accuracy: 0.8800\n",
            "Epoch 19/30\n",
            "50/50 [==============================] - 26s 511ms/step - loss: 0.4070 - accuracy: 0.8687 - val_loss: 0.4357 - val_accuracy: 0.8725\n",
            "Epoch 20/30\n",
            "50/50 [==============================] - 25s 508ms/step - loss: 0.3938 - accuracy: 0.8661 - val_loss: 0.4199 - val_accuracy: 0.8875\n",
            "Epoch 21/30\n",
            "50/50 [==============================] - 26s 513ms/step - loss: 0.3693 - accuracy: 0.8765 - val_loss: 0.4292 - val_accuracy: 0.8750\n",
            "Epoch 22/30\n",
            "50/50 [==============================] - 25s 510ms/step - loss: 0.3687 - accuracy: 0.8780 - val_loss: 0.4322 - val_accuracy: 0.8775\n",
            "Epoch 23/30\n",
            "50/50 [==============================] - 25s 509ms/step - loss: 0.3628 - accuracy: 0.8841 - val_loss: 0.4188 - val_accuracy: 0.8775\n",
            "Epoch 24/30\n",
            "50/50 [==============================] - 26s 511ms/step - loss: 0.3293 - accuracy: 0.8999 - val_loss: 0.4147 - val_accuracy: 0.8800\n"
          ],
          "name": "stdout"
        }
      ]
    },
    {
      "cell_type": "markdown",
      "metadata": {
        "id": "1XorETPyAVTE"
      },
      "source": [
        "## Charts"
      ]
    },
    {
      "cell_type": "code",
      "metadata": {
        "id": "l3NesH4PE1dC"
      },
      "source": [
        "import matplotlib.pyplot as plt\n",
        "import numpy as np\n",
        "from matplotlib.ticker import PercentFormatter\n",
        "from google.colab import files"
      ],
      "execution_count": null,
      "outputs": []
    },
    {
      "cell_type": "markdown",
      "metadata": {
        "id": "KUUjs7IBEugz"
      },
      "source": [
        "### Plot training and validation loss per epoch"
      ]
    },
    {
      "cell_type": "code",
      "metadata": {
        "colab": {
          "base_uri": "https://localhost:8080/",
          "height": 295
        },
        "id": "spdbyqpaAZhf",
        "outputId": "5b61854f-0a6f-4030-ffcd-46715718e6b1"
      },
      "source": [
        "loss = history.history['loss']\n",
        "loss.insert(0, None)\n",
        "val_loss = history.history['val_loss']\n",
        "val_loss.insert(0, None)\n",
        "epochs = range(len(loss))\n",
        "\n",
        "plt.plot(epochs, loss, label='Training loss')\n",
        "plt.plot(epochs, val_loss, label='Validation loss')\n",
        "plt.title('Training and validation loss')\n",
        "plt.ylabel('Loss')\n",
        "plt.xlabel('Epochs')\n",
        "plt.legend(loc=\"upper right\")\n",
        "plt.grid()\n",
        "plt.xticks(np.arange(0, len(loss), step=2))\n",
        "\n",
        "loss.pop(0)\n",
        "val_loss.pop(0)\n",
        "\n",
        "# Uncomment below section to download chart\n",
        "# plt.savefig(\"loss_chart.png\", dpi=300)\n",
        "# files.download(\"loss_chart.png\")"
      ],
      "execution_count": null,
      "outputs": [
        {
          "output_type": "display_data",
          "data": {
            "image/png": "[encoded data removed]",
            "text/plain": [
              "<Figure size 432x288 with 1 Axes>"
            ]
          },
          "metadata": {
            "tags": [],
            "needs_background": "light"
          }
        }
      ]
    },
    {
      "cell_type": "markdown",
      "metadata": {
        "id": "j2kWQjgBG9Kb"
      },
      "source": [
        "### Plot training and validation accuracy per epoch"
      ]
    },
    {
      "cell_type": "code",
      "metadata": {
        "colab": {
          "base_uri": "https://localhost:8080/",
          "height": 312
        },
        "id": "FBgVanENdmP4",
        "outputId": "5f75935c-597d-48fa-ee21-e33893818bcb"
      },
      "source": [
        "accuracy = history.history['accuracy']\n",
        "accuracy.insert(0, 0)\n",
        "val_accuracy = history.history['val_accuracy']\n",
        "val_accuracy.insert(0, 0)\n",
        "epochs = range(len(accuracy))\n",
        "\n",
        "plt.title('Training and validation accuracy')\n",
        "plt.plot(epochs, accuracy, label='Training accuracy')\n",
        "plt.ylabel('Accuracy')\n",
        "plt.plot(epochs, val_accuracy, label='Validation accuracy')\n",
        "plt.xlabel('Epochs')\n",
        "plt.legend(loc=\"lower right\")\n",
        "plt.grid()\n",
        "plt.ylim([0.0, 1.0])\n",
        "plt.gca().yaxis.set_major_formatter(PercentFormatter(1.0))\n",
        "plt.xticks(np.arange(0, len(accuracy), step=2))\n",
        "\n",
        "max_val_accuracy = max(val_accuracy)\n",
        "max_val_accuracy_index = val_accuracy.index(max_val_accuracy)\n",
        "max_val_accuracy_rounded = round(max_val_accuracy, 4) * 100.0\n",
        "\n",
        "\n",
        "plt.scatter(max_val_accuracy_index, max_val_accuracy, s=40, marker='o', color='red')\n",
        "plt.text(max_val_accuracy_index + -5, max_val_accuracy - 0.15, f'             {max_val_accuracy_rounded}%\\nmax validation accuracy', fontsize=10)\n",
        "\n",
        "accuracy.pop(0)\n",
        "val_accuracy.pop(0)\n",
        "\n",
        "# Uncomment below section to download chart\n",
        "# plt.savefig(\"accuracy_chart.png\", dpi=300)\n",
        "# files.download(\"accuracy_chart.png\")"
      ],
      "execution_count": null,
      "outputs": [
        {
          "output_type": "execute_result",
          "data": {
            "text/plain": [
              "0"
            ]
          },
          "metadata": {
            "tags": []
          },
          "execution_count": 133
        },
        {
          "output_type": "display_data",
          "data": {
            "image/png": "[encoded data removed]",
            "text/plain": [
              "<Figure size 432x288 with 1 Axes>"
            ]
          },
          "metadata": {
            "tags": [],
            "needs_background": "light"
          }
        }
      ]
    },
    {
      "cell_type": "markdown",
      "metadata": {
        "id": "BtQdpoXDzhu9"
      },
      "source": [
        "## Export model"
      ]
    },
    {
      "cell_type": "code",
      "metadata": {
        "id": "5YzTow8Pyy3j",
        "colab": {
          "base_uri": "https://localhost:8080/"
        },
        "outputId": "875e4ca2-d033-460e-90b7-36ec7713d59d"
      },
      "source": [
        "!pip install tensorflowjs"
      ],
      "execution_count": null,
      "outputs": [
        {
          "output_type": "stream",
          "text": [
            "Collecting tensorflowjs\n",
            "\u001b[?25l  Downloading https://files.pythonhosted.org/packages/06/70/5ec888400864258878cc7c638e9929eea9b307a2b1c5e1438dbd751e57ff/tensorflowjs-2.8.5-py3-none-any.whl (63kB)\n",
            "\r\u001b[K     |█████▏                          | 10kB 21.5MB/s eta 0:00:01\r\u001b[K     |██████████▍                     | 20kB 14.7MB/s eta 0:00:01\r\u001b[K     |███████████████▌                | 30kB 13.0MB/s eta 0:00:01\r\u001b[K     |████████████████████▊           | 40kB 12.1MB/s eta 0:00:01\r\u001b[K     |█████████████████████████▉      | 51kB 8.4MB/s eta 0:00:01\r\u001b[K     |███████████████████████████████ | 61kB 8.8MB/s eta 0:00:01\r\u001b[K     |████████████████████████████████| 71kB 6.0MB/s \n",
            "\u001b[?25hCollecting tensorflow-hub<0.10,>=0.7.0\n",
            "\u001b[?25l  Downloading https://files.pythonhosted.org/packages/ac/83/a7df82744a794107641dad1decaad017d82e25f0e1f761ac9204829eef96/tensorflow_hub-0.9.0-py2.py3-none-any.whl (103kB)\n",
            "\r\u001b[K     |███▏                            | 10kB 31.7MB/s eta 0:00:01\r\u001b[K     |██████▍                         | 20kB 20.7MB/s eta 0:00:01\r\u001b[K     |█████████▌                      | 30kB 15.1MB/s eta 0:00:01\r\u001b[K     |████████████▊                   | 40kB 13.7MB/s eta 0:00:01\r\u001b[K     |███████████████▉                | 51kB 12.9MB/s eta 0:00:01\r\u001b[K     |███████████████████             | 61kB 11.8MB/s eta 0:00:01\r\u001b[K     |██████████████████████▏         | 71kB 11.1MB/s eta 0:00:01\r\u001b[K     |█████████████████████████▍      | 81kB 11.0MB/s eta 0:00:01\r\u001b[K     |████████████████████████████▋   | 92kB 11.1MB/s eta 0:00:01\r\u001b[K     |███████████████████████████████▊| 102kB 11.0MB/s eta 0:00:01\r\u001b[K     |████████████████████████████████| 112kB 11.0MB/s \n",
            "\u001b[?25hRequirement already satisfied: tensorflow<3,>=2.1.0 in /usr/local/lib/python3.6/dist-packages (from tensorflowjs) (2.4.0)\n",
            "Requirement already satisfied: h5py<3,>=2.8.0 in /usr/local/lib/python3.6/dist-packages (from tensorflowjs) (2.10.0)\n",
            "Requirement already satisfied: six<2,>=1.12.0 in /usr/local/lib/python3.6/dist-packages (from tensorflowjs) (1.15.0)\n",
            "Requirement already satisfied: protobuf>=3.8.0 in /usr/local/lib/python3.6/dist-packages (from tensorflow-hub<0.10,>=0.7.0->tensorflowjs) (3.12.4)\n",
            "Requirement already satisfied: numpy>=1.12.0 in /usr/local/lib/python3.6/dist-packages (from tensorflow-hub<0.10,>=0.7.0->tensorflowjs) (1.19.5)\n",
            "Requirement already satisfied: astunparse~=1.6.3 in /usr/local/lib/python3.6/dist-packages (from tensorflow<3,>=2.1.0->tensorflowjs) (1.6.3)\n",
            "Requirement already satisfied: typing-extensions~=3.7.4 in /usr/local/lib/python3.6/dist-packages (from tensorflow<3,>=2.1.0->tensorflowjs) (3.7.4.3)\n",
            "Requirement already satisfied: wheel~=0.35 in /usr/local/lib/python3.6/dist-packages (from tensorflow<3,>=2.1.0->tensorflowjs) (0.36.2)\n",
            "Requirement already satisfied: tensorboard~=2.4 in /usr/local/lib/python3.6/dist-packages (from tensorflow<3,>=2.1.0->tensorflowjs) (2.4.0)\n",
            "Requirement already satisfied: opt-einsum~=3.3.0 in /usr/local/lib/python3.6/dist-packages (from tensorflow<3,>=2.1.0->tensorflowjs) (3.3.0)\n",
            "Requirement already satisfied: wrapt~=1.12.1 in /usr/local/lib/python3.6/dist-packages (from tensorflow<3,>=2.1.0->tensorflowjs) (1.12.1)\n",
            "Requirement already satisfied: tensorflow-estimator<2.5.0,>=2.4.0rc0 in /usr/local/lib/python3.6/dist-packages (from tensorflow<3,>=2.1.0->tensorflowjs) (2.4.0)\n",
            "Requirement already satisfied: grpcio~=1.32.0 in /usr/local/lib/python3.6/dist-packages (from tensorflow<3,>=2.1.0->tensorflowjs) (1.32.0)\n",
            "Requirement already satisfied: flatbuffers~=1.12.0 in /usr/local/lib/python3.6/dist-packages (from tensorflow<3,>=2.1.0->tensorflowjs) (1.12)\n",
            "Requirement already satisfied: absl-py~=0.10 in /usr/local/lib/python3.6/dist-packages (from tensorflow<3,>=2.1.0->tensorflowjs) (0.10.0)\n",
            "Requirement already satisfied: termcolor~=1.1.0 in /usr/local/lib/python3.6/dist-packages (from tensorflow<3,>=2.1.0->tensorflowjs) (1.1.0)\n",
            "Requirement already satisfied: gast==0.3.3 in /usr/local/lib/python3.6/dist-packages (from tensorflow<3,>=2.1.0->tensorflowjs) (0.3.3)\n",
            "Requirement already satisfied: google-pasta~=0.2 in /usr/local/lib/python3.6/dist-packages (from tensorflow<3,>=2.1.0->tensorflowjs) (0.2.0)\n",
            "Requirement already satisfied: keras-preprocessing~=1.1.2 in /usr/local/lib/python3.6/dist-packages (from tensorflow<3,>=2.1.0->tensorflowjs) (1.1.2)\n",
            "Requirement already satisfied: setuptools in /usr/local/lib/python3.6/dist-packages (from protobuf>=3.8.0->tensorflow-hub<0.10,>=0.7.0->tensorflowjs) (51.3.3)\n",
            "Requirement already satisfied: google-auth<2,>=1.6.3 in /usr/local/lib/python3.6/dist-packages (from tensorboard~=2.4->tensorflow<3,>=2.1.0->tensorflowjs) (1.17.2)\n",
            "Requirement already satisfied: google-auth-oauthlib<0.5,>=0.4.1 in /usr/local/lib/python3.6/dist-packages (from tensorboard~=2.4->tensorflow<3,>=2.1.0->tensorflowjs) (0.4.2)\n",
            "Requirement already satisfied: werkzeug>=0.11.15 in /usr/local/lib/python3.6/dist-packages (from tensorboard~=2.4->tensorflow<3,>=2.1.0->tensorflowjs) (1.0.1)\n",
            "Requirement already satisfied: markdown>=2.6.8 in /usr/local/lib/python3.6/dist-packages (from tensorboard~=2.4->tensorflow<3,>=2.1.0->tensorflowjs) (3.3.3)\n",
            "Requirement already satisfied: tensorboard-plugin-wit>=1.6.0 in /usr/local/lib/python3.6/dist-packages (from tensorboard~=2.4->tensorflow<3,>=2.1.0->tensorflowjs) (1.7.0)\n",
            "Requirement already satisfied: requests<3,>=2.21.0 in /usr/local/lib/python3.6/dist-packages (from tensorboard~=2.4->tensorflow<3,>=2.1.0->tensorflowjs) (2.23.0)\n",
            "Requirement already satisfied: rsa<5,>=3.1.4; python_version >= \"3\" in /usr/local/lib/python3.6/dist-packages (from google-auth<2,>=1.6.3->tensorboard~=2.4->tensorflow<3,>=2.1.0->tensorflowjs) (4.6)\n",
            "Requirement already satisfied: cachetools<5.0,>=2.0.0 in /usr/local/lib/python3.6/dist-packages (from google-auth<2,>=1.6.3->tensorboard~=2.4->tensorflow<3,>=2.1.0->tensorflowjs) (4.2.0)\n",
            "Requirement already satisfied: pyasn1-modules>=0.2.1 in /usr/local/lib/python3.6/dist-packages (from google-auth<2,>=1.6.3->tensorboard~=2.4->tensorflow<3,>=2.1.0->tensorflowjs) (0.2.8)\n",
            "Requirement already satisfied: requests-oauthlib>=0.7.0 in /usr/local/lib/python3.6/dist-packages (from google-auth-oauthlib<0.5,>=0.4.1->tensorboard~=2.4->tensorflow<3,>=2.1.0->tensorflowjs) (1.3.0)\n",
            "Requirement already satisfied: importlib-metadata; python_version < \"3.8\" in /usr/local/lib/python3.6/dist-packages (from markdown>=2.6.8->tensorboard~=2.4->tensorflow<3,>=2.1.0->tensorflowjs) (3.3.0)\n",
            "Requirement already satisfied: urllib3!=1.25.0,!=1.25.1,<1.26,>=1.21.1 in /usr/local/lib/python3.6/dist-packages (from requests<3,>=2.21.0->tensorboard~=2.4->tensorflow<3,>=2.1.0->tensorflowjs) (1.24.3)\n",
            "Requirement already satisfied: certifi>=2017.4.17 in /usr/local/lib/python3.6/dist-packages (from requests<3,>=2.21.0->tensorboard~=2.4->tensorflow<3,>=2.1.0->tensorflowjs) (2020.12.5)\n",
            "Requirement already satisfied: idna<3,>=2.5 in /usr/local/lib/python3.6/dist-packages (from requests<3,>=2.21.0->tensorboard~=2.4->tensorflow<3,>=2.1.0->tensorflowjs) (2.10)\n",
            "Requirement already satisfied: chardet<4,>=3.0.2 in /usr/local/lib/python3.6/dist-packages (from requests<3,>=2.21.0->tensorboard~=2.4->tensorflow<3,>=2.1.0->tensorflowjs) (3.0.4)\n",
            "Requirement already satisfied: pyasn1>=0.1.3 in /usr/local/lib/python3.6/dist-packages (from rsa<5,>=3.1.4; python_version >= \"3\"->google-auth<2,>=1.6.3->tensorboard~=2.4->tensorflow<3,>=2.1.0->tensorflowjs) (0.4.8)\n",
            "Requirement already satisfied: oauthlib>=3.0.0 in /usr/local/lib/python3.6/dist-packages (from requests-oauthlib>=0.7.0->google-auth-oauthlib<0.5,>=0.4.1->tensorboard~=2.4->tensorflow<3,>=2.1.0->tensorflowjs) (3.1.0)\n",
            "Requirement already satisfied: zipp>=0.5 in /usr/local/lib/python3.6/dist-packages (from importlib-metadata; python_version < \"3.8\"->markdown>=2.6.8->tensorboard~=2.4->tensorflow<3,>=2.1.0->tensorflowjs) (3.4.0)\n",
            "Installing collected packages: tensorflow-hub, tensorflowjs\n",
            "  Found existing installation: tensorflow-hub 0.11.0\n",
            "    Uninstalling tensorflow-hub-0.11.0:\n",
            "      Successfully uninstalled tensorflow-hub-0.11.0\n",
            "Successfully installed tensorflow-hub-0.9.0 tensorflowjs-2.8.5\n"
          ],
          "name": "stdout"
        }
      ]
    },
    {
      "cell_type": "code",
      "metadata": {
        "colab": {
          "base_uri": "https://localhost:8080/"
        },
        "id": "QBJn_INEzlKa",
        "outputId": "b2f6b7f7-b7d2-4e2a-da18-9a308631c034"
      },
      "source": [
        "import tensorflowjs as tfjs\n",
        "\n",
        "tfjs.converters.save_keras_model(model, '/content/models/plant-check-model', weight_shard_size_bytes=300000000)"
      ],
      "execution_count": null,
      "outputs": [
        {
          "output_type": "stream",
          "text": [
            "/usr/local/lib/python3.6/dist-packages/tensorflowjs/converters/keras_h5_conversion.py:123: H5pyDeprecationWarning: The default file mode will change to 'r' (read-only) in h5py 3.0. To suppress this warning, pass the mode you need to h5py.File(), or set the global default h5.get_config().default_file_mode, or set the environment variable H5PY_DEFAULT_READONLY=1. Available modes are: 'r', 'r+', 'w', 'w-'/'x', 'a'. See the docs for details.\n",
            "  return h5py.File(h5file)\n"
          ],
          "name": "stderr"
        }
      ]
    },
    {
      "cell_type": "code",
      "metadata": {
        "colab": {
          "base_uri": "https://localhost:8080/"
        },
        "id": "CnMWa_6ok6db",
        "outputId": "0f5452ef-1e06-4f1e-cab9-2128178be5be"
      },
      "source": [
        "!du -h ./models/plant-check-model"
      ],
      "execution_count": null,
      "outputs": [
        {
          "output_type": "stream",
          "text": [
            "93M\t./models/plant-check-model\n"
          ],
          "name": "stdout"
        }
      ]
    },
    {
      "cell_type": "code",
      "metadata": {
        "colab": {
          "base_uri": "https://localhost:8080/"
        },
        "id": "eFcr6NKBW3TK",
        "outputId": "f60ed53c-9b2b-4a0a-e06b-14aa7e1762a2"
      },
      "source": [
        "!zip -r /content/models/plant-check-model.zip /content/models/plant-check-model"
      ],
      "execution_count": null,
      "outputs": [
        {
          "output_type": "stream",
          "text": [
            "  adding: content/models/plant-check-model/ (stored 0%)\n",
            "  adding: content/models/plant-check-model/group1-shard1of1.bin (deflated 7%)\n",
            "  adding: content/models/plant-check-model/model.json (deflated 96%)\n"
          ],
          "name": "stdout"
        }
      ]
    },
    {
      "cell_type": "code",
      "metadata": {
        "colab": {
          "base_uri": "https://localhost:8080/",
          "height": 17
        },
        "id": "Hdhm5J2gYB-P",
        "outputId": "e9578b20-fc84-4107-a115-28c6386873be"
      },
      "source": [
        "from google.colab import files\n",
        "files.download(\"/content/models/plant-check-model.zip\")"
      ],
      "execution_count": null,
      "outputs": [
        {
          "output_type": "display_data",
          "data": {
            "application/javascript": [
              "\n",
              "    async function download(id, filename, size) {\n",
              "      if (!google.colab.kernel.accessAllowed) {\n",
              "        return;\n",
              "      }\n",
              "      const div = document.createElement('div');\n",
              "      const label = document.createElement('label');\n",
              "      label.textContent = `Downloading \"${filename}\": `;\n",
              "      div.appendChild(label);\n",
              "      const progress = document.createElement('progress');\n",
              "      progress.max = size;\n",
              "      div.appendChild(progress);\n",
              "      document.body.appendChild(div);\n",
              "\n",
              "      const buffers = [];\n",
              "      let downloaded = 0;\n",
              "\n",
              "      const channel = await google.colab.kernel.comms.open(id);\n",
              "      // Send a message to notify the kernel that we're ready.\n",
              "      channel.send({})\n",
              "\n",
              "      for await (const message of channel.messages) {\n",
              "        // Send a message to notify the kernel that we're ready.\n",
              "        channel.send({})\n",
              "        if (message.buffers) {\n",
              "          for (const buffer of message.buffers) {\n",
              "            buffers.push(buffer);\n",
              "            downloaded += buffer.byteLength;\n",
              "            progress.value = downloaded;\n",
              "          }\n",
              "        }\n",
              "      }\n",
              "      const blob = new Blob(buffers, {type: 'application/binary'});\n",
              "      const a = document.createElement('a');\n",
              "      a.href = window.URL.createObjectURL(blob);\n",
              "      a.download = filename;\n",
              "      div.appendChild(a);\n",
              "      a.click();\n",
              "      div.remove();\n",
              "    }\n",
              "  "
            ],
            "text/plain": [
              "<IPython.core.display.Javascript object>"
            ]
          },
          "metadata": {
            "tags": []
          }
        },
        {
          "output_type": "display_data",
          "data": {
            "application/javascript": [
              "download(\"download_2bae81ae-d759-4d86-a68f-9f0a3e2b1a36\", \"plant-check-model.zip\", 89383217)"
            ],
            "text/plain": [
              "<IPython.core.display.Javascript object>"
            ]
          },
          "metadata": {
            "tags": []
          }
        }
      ]
    }
  ]
}